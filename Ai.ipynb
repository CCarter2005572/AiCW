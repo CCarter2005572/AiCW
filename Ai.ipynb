{
  "cells": [
    {
      "cell_type": "markdown",
      "source": [
        "# **Section 1:**"
      ],
      "metadata": {
        "id": "7fgjNBmV6nPi"
      }
    },
    {
      "cell_type": "markdown",
      "metadata": {
        "id": "Ya_L99f6Z3sk"
      },
      "source": [
        "\n",
        "**Introduction to Dataset**\n",
        "\n",
        "The dataset used in this assignment consists of email messages, including two columns: \"text\", labels the contents of the emails themselves, and \"spam,\" labels them as being spam or not spam (1 and 0, respectively). Spam emails are those that advertise some product or offer to sell something and sometimes have phishing links, whilst the non-spam emails are very likely to be professional letters, personal letters, or simply enquiring about something.\n",
        "\n",
        "The goal is to classify these emails as spam or not spam, using FastText for representation learning and Random Forest and XGBoost for classification.\n",
        "\n",
        "FastText is a powerful word embedding method that changes text into dense numerical vectors while capturing the meaning of words and their context. This makes it well-suited for this dataset, since it works well on medium-sized datasets and can deal with noisy data, such as typos or uncommon tokens that can be present in emails.\n",
        "\n",
        "Random Forest is ideal for the task, as it identifies non-linear patterns, reduces overfitting, and highlights features important in the data. XGBoost complements this approach by delivering high accuracy in modeling complex relationships in sparse textual data.\n",
        "\n",
        "\n",
        "\n",
        "https://www.kaggle.com/datasets/jackksoncsie/spam-email-dataset\n"
      ]
    },
    {
      "cell_type": "code",
      "execution_count": 11,
      "metadata": {
        "colab": {
          "base_uri": "https://localhost:8080/",
          "height": 160
        },
        "id": "nmTWgUQ8ZnHJ",
        "outputId": "5d3f3e17-1690-4d3c-c862-28bc4fa58b3c"
      },
      "outputs": [
        {
          "output_type": "display_data",
          "data": {
            "text/plain": [
              "<IPython.core.display.HTML object>"
            ],
            "text/html": [
              "\n",
              "     <input type=\"file\" id=\"files-b1a9aaa3-29d5-4817-bdbc-1acb8ee31ef7\" name=\"files[]\" multiple disabled\n",
              "        style=\"border:none\" />\n",
              "     <output id=\"result-b1a9aaa3-29d5-4817-bdbc-1acb8ee31ef7\">\n",
              "      Upload widget is only available when the cell has been executed in the\n",
              "      current browser session. Please rerun this cell to enable.\n",
              "      </output>\n",
              "      <script>// Copyright 2017 Google LLC\n",
              "//\n",
              "// Licensed under the Apache License, Version 2.0 (the \"License\");\n",
              "// you may not use this file except in compliance with the License.\n",
              "// You may obtain a copy of the License at\n",
              "//\n",
              "//      http://www.apache.org/licenses/LICENSE-2.0\n",
              "//\n",
              "// Unless required by applicable law or agreed to in writing, software\n",
              "// distributed under the License is distributed on an \"AS IS\" BASIS,\n",
              "// WITHOUT WARRANTIES OR CONDITIONS OF ANY KIND, either express or implied.\n",
              "// See the License for the specific language governing permissions and\n",
              "// limitations under the License.\n",
              "\n",
              "/**\n",
              " * @fileoverview Helpers for google.colab Python module.\n",
              " */\n",
              "(function(scope) {\n",
              "function span(text, styleAttributes = {}) {\n",
              "  const element = document.createElement('span');\n",
              "  element.textContent = text;\n",
              "  for (const key of Object.keys(styleAttributes)) {\n",
              "    element.style[key] = styleAttributes[key];\n",
              "  }\n",
              "  return element;\n",
              "}\n",
              "\n",
              "// Max number of bytes which will be uploaded at a time.\n",
              "const MAX_PAYLOAD_SIZE = 100 * 1024;\n",
              "\n",
              "function _uploadFiles(inputId, outputId) {\n",
              "  const steps = uploadFilesStep(inputId, outputId);\n",
              "  const outputElement = document.getElementById(outputId);\n",
              "  // Cache steps on the outputElement to make it available for the next call\n",
              "  // to uploadFilesContinue from Python.\n",
              "  outputElement.steps = steps;\n",
              "\n",
              "  return _uploadFilesContinue(outputId);\n",
              "}\n",
              "\n",
              "// This is roughly an async generator (not supported in the browser yet),\n",
              "// where there are multiple asynchronous steps and the Python side is going\n",
              "// to poll for completion of each step.\n",
              "// This uses a Promise to block the python side on completion of each step,\n",
              "// then passes the result of the previous step as the input to the next step.\n",
              "function _uploadFilesContinue(outputId) {\n",
              "  const outputElement = document.getElementById(outputId);\n",
              "  const steps = outputElement.steps;\n",
              "\n",
              "  const next = steps.next(outputElement.lastPromiseValue);\n",
              "  return Promise.resolve(next.value.promise).then((value) => {\n",
              "    // Cache the last promise value to make it available to the next\n",
              "    // step of the generator.\n",
              "    outputElement.lastPromiseValue = value;\n",
              "    return next.value.response;\n",
              "  });\n",
              "}\n",
              "\n",
              "/**\n",
              " * Generator function which is called between each async step of the upload\n",
              " * process.\n",
              " * @param {string} inputId Element ID of the input file picker element.\n",
              " * @param {string} outputId Element ID of the output display.\n",
              " * @return {!Iterable<!Object>} Iterable of next steps.\n",
              " */\n",
              "function* uploadFilesStep(inputId, outputId) {\n",
              "  const inputElement = document.getElementById(inputId);\n",
              "  inputElement.disabled = false;\n",
              "\n",
              "  const outputElement = document.getElementById(outputId);\n",
              "  outputElement.innerHTML = '';\n",
              "\n",
              "  const pickedPromise = new Promise((resolve) => {\n",
              "    inputElement.addEventListener('change', (e) => {\n",
              "      resolve(e.target.files);\n",
              "    });\n",
              "  });\n",
              "\n",
              "  const cancel = document.createElement('button');\n",
              "  inputElement.parentElement.appendChild(cancel);\n",
              "  cancel.textContent = 'Cancel upload';\n",
              "  const cancelPromise = new Promise((resolve) => {\n",
              "    cancel.onclick = () => {\n",
              "      resolve(null);\n",
              "    };\n",
              "  });\n",
              "\n",
              "  // Wait for the user to pick the files.\n",
              "  const files = yield {\n",
              "    promise: Promise.race([pickedPromise, cancelPromise]),\n",
              "    response: {\n",
              "      action: 'starting',\n",
              "    }\n",
              "  };\n",
              "\n",
              "  cancel.remove();\n",
              "\n",
              "  // Disable the input element since further picks are not allowed.\n",
              "  inputElement.disabled = true;\n",
              "\n",
              "  if (!files) {\n",
              "    return {\n",
              "      response: {\n",
              "        action: 'complete',\n",
              "      }\n",
              "    };\n",
              "  }\n",
              "\n",
              "  for (const file of files) {\n",
              "    const li = document.createElement('li');\n",
              "    li.append(span(file.name, {fontWeight: 'bold'}));\n",
              "    li.append(span(\n",
              "        `(${file.type || 'n/a'}) - ${file.size} bytes, ` +\n",
              "        `last modified: ${\n",
              "            file.lastModifiedDate ? file.lastModifiedDate.toLocaleDateString() :\n",
              "                                    'n/a'} - `));\n",
              "    const percent = span('0% done');\n",
              "    li.appendChild(percent);\n",
              "\n",
              "    outputElement.appendChild(li);\n",
              "\n",
              "    const fileDataPromise = new Promise((resolve) => {\n",
              "      const reader = new FileReader();\n",
              "      reader.onload = (e) => {\n",
              "        resolve(e.target.result);\n",
              "      };\n",
              "      reader.readAsArrayBuffer(file);\n",
              "    });\n",
              "    // Wait for the data to be ready.\n",
              "    let fileData = yield {\n",
              "      promise: fileDataPromise,\n",
              "      response: {\n",
              "        action: 'continue',\n",
              "      }\n",
              "    };\n",
              "\n",
              "    // Use a chunked sending to avoid message size limits. See b/62115660.\n",
              "    let position = 0;\n",
              "    do {\n",
              "      const length = Math.min(fileData.byteLength - position, MAX_PAYLOAD_SIZE);\n",
              "      const chunk = new Uint8Array(fileData, position, length);\n",
              "      position += length;\n",
              "\n",
              "      const base64 = btoa(String.fromCharCode.apply(null, chunk));\n",
              "      yield {\n",
              "        response: {\n",
              "          action: 'append',\n",
              "          file: file.name,\n",
              "          data: base64,\n",
              "        },\n",
              "      };\n",
              "\n",
              "      let percentDone = fileData.byteLength === 0 ?\n",
              "          100 :\n",
              "          Math.round((position / fileData.byteLength) * 100);\n",
              "      percent.textContent = `${percentDone}% done`;\n",
              "\n",
              "    } while (position < fileData.byteLength);\n",
              "  }\n",
              "\n",
              "  // All done.\n",
              "  yield {\n",
              "    response: {\n",
              "      action: 'complete',\n",
              "    }\n",
              "  };\n",
              "}\n",
              "\n",
              "scope.google = scope.google || {};\n",
              "scope.google.colab = scope.google.colab || {};\n",
              "scope.google.colab._files = {\n",
              "  _uploadFiles,\n",
              "  _uploadFilesContinue,\n",
              "};\n",
              "})(self);\n",
              "</script> "
            ]
          },
          "metadata": {}
        },
        {
          "output_type": "stream",
          "name": "stdout",
          "text": [
            "Saving emails.csv to emails (2).csv\n",
            "File loaded successful\n",
            "Training Text Shape: 2800 emails\n",
            "Testing Text Shape: 700 emails\n",
            "Training Labels Shape: (2800,)\n",
            "Testing Labels Shape: (700,)\n"
          ]
        }
      ],
      "source": [
        "# Import necessary libraries\n",
        "import pandas as pd  # For data manipulation\n",
        "from gensim.utils import simple_preprocess  # For text tokenization\n",
        "from sklearn.model_selection import train_test_split  # For train-test split\n",
        "import numpy as np  # For handling numerical arrays\n",
        "from google.colab import files  # File upload functionality\n",
        "\n",
        "# Step 1: Upload the file\n",
        "uploaded = files.upload()\n",
        "\n",
        "# Step 2: Check if the CSV file was uploaded successfully\n",
        "try:\n",
        "    emails_df = pd.read_csv('emails.csv')\n",
        "    print(\"File loaded successful\")\n",
        "except Exception as e:\n",
        "    print(f\"Error loading file: {e}\")\n",
        "\n",
        "# Step 3: Clean and preprocess the data\n",
        "emails_df = emails_df.dropna()  # Remove missing values\n",
        "emails_df['text'] = emails_df['text'].astype(str)  # Ensure 'text' column is string\n",
        "emails_df['spam'] = emails_df['spam'].astype(int)  # Ensure 'spam' column is integer\n",
        "\n",
        "# Step 4: Tokenize the text for FastText\n",
        "emails_df['tokenized_text'] = emails_df['text'].apply(simple_preprocess)\n",
        "\n",
        "# Step 5: Randomly sample 3,500 rows of the data\n",
        "emails_sampled_df = emails_df.sample(n=3500, random_state=420).reset_index(drop=True)\n",
        "\n",
        "# Step 6: split dataset into train and test\n",
        "X_text = emails_sampled_df['text']\n",
        "y_labels = emails_sampled_df['spam']\n",
        "X_train_text, X_test_text, y_train, y_test = train_test_split(\n",
        "    X_text, y_labels, test_size=0.2, random_state=42\n",
        ")\n",
        "\n",
        "# Step 7: Display summary of training and testing sets\n",
        "print(f\"Training Text Shape: {len(X_train_text)} emails\")\n",
        "print(f\"Testing Text Shape: {len(X_test_text)} emails\")\n",
        "print(f\"Training Labels Shape: {y_train.shape}\")\n",
        "print(f\"Testing Labels Shape: {y_test.shape}\")\n"
      ]
    },
    {
      "cell_type": "markdown",
      "source": [
        "# **Section 2:**"
      ],
      "metadata": {
        "id": "5H06_axz6quq"
      }
    },
    {
      "cell_type": "markdown",
      "metadata": {
        "id": "cdbJrPhbZ9Zm"
      },
      "source": [
        "The FastText embedding approach will be used to change the textual data into numerical vectors that enable the NLP tasks such as spam classification. FastText is a word-embedding technique that captures the semantic meaning of words and subwords, making it ideal for email content understanding.\n",
        "\n",
        "FastText works well on this dataset of 5,700 email messages as it efficiently handles small and medium-sized datasets, presenting text in a context-aware robust way. Unlike other methods for building word embeddings, FastText uses subword information which is very important when handling rare words, typos, or unique tokens typical of e-mail text. This helps the model perform better at determining spam from nonspam emails.\n",
        "\n",
        "The preprocessing was done by tokenizing the text of each email into individual words using simple_preprocess. A FastText model was trained on the tokenized text from the training set. Each email was then represented as the average of its word embeddings, producing a fixed-length numerical vector. These vectors served as input features for the Random Forest and XGBoost classifiers.\n",
        "\n",
        "This turned the text data into numerical features, which would let the classifiers pick up semantic patterns and improve the accuracy of spam detection.\n"
      ]
    },
    {
      "cell_type": "code",
      "execution_count": 12,
      "metadata": {
        "id": "E_BMVc1dZ3YI",
        "colab": {
          "base_uri": "https://localhost:8080/"
        },
        "outputId": "be287b74-0df6-4afd-b184-f3585c11f336"
      },
      "outputs": [
        {
          "output_type": "stream",
          "name": "stdout",
          "text": [
            "Training Feature Matrix Shape: (2800, 100)\n",
            "Testing Feature Matrix Shape: (700, 100)\n"
          ]
        }
      ],
      "source": [
        "# Import necessary libraries\n",
        "from gensim.models import FastText\n",
        "from gensim.utils import simple_preprocess\n",
        "import numpy as np\n",
        "\n",
        "# Step 1: Tokenize the training data\n",
        "tokenized_train_sentences = [simple_preprocess(email) for email in X_train_text]\n",
        "\n",
        "# Step 2: Train a FastText model using the training data\n",
        "fasttext_model = FastText(\n",
        "    vector_size=100,  # Dimensionality of word embeddings\n",
        "    window=5,         # Context window size\n",
        "    min_count=1,      # Include all words\n",
        "    workers=4         # Number of threads to use\n",
        ")\n",
        "\n",
        "# Build vocabulary and train the model\n",
        "fasttext_model.build_vocab(corpus_iterable=tokenized_train_sentences)\n",
        "fasttext_model.train(\n",
        "    corpus_iterable=tokenized_train_sentences,\n",
        "    total_examples=len(tokenized_train_sentences),\n",
        "    epochs=10\n",
        ")\n",
        "\n",
        "# Step 3: Represent emails as average word vectors\n",
        "def get_average_vector(tokens, model):\n",
        "    vectors = [model.wv[word] for word in tokens if word in model.wv]\n",
        "    if len(vectors) > 0:\n",
        "        return np.mean(vectors, axis=0)\n",
        "    else:\n",
        "        return np.zeros(model.vector_size)\n",
        "\n",
        "# Generate embeddings for training and testing data\n",
        "X_train_features = np.array([get_average_vector(simple_preprocess(email), fasttext_model) for email in X_train_text])\n",
        "X_test_features = np.array([get_average_vector(simple_preprocess(email), fasttext_model) for email in X_test_text])\n",
        "\n",
        "# Step 4: Display feature matrix and labels\n",
        "print(f\"Training Feature Matrix Shape: {X_train_features.shape}\")\n",
        "print(f\"Testing Feature Matrix Shape: {X_test_features.shape}\")\n"
      ]
    },
    {
      "cell_type": "markdown",
      "source": [
        "# **Section 3:**"
      ],
      "metadata": {
        "id": "dFL99-2v6tL7"
      }
    },
    {
      "cell_type": "markdown",
      "metadata": {
        "id": "U2Y9a-XOaCQK"
      },
      "source": [
        "text 3"
      ]
    },
    {
      "cell_type": "code",
      "execution_count": 13,
      "metadata": {
        "id": "U6mzuQ-IgHyc",
        "colab": {
          "base_uri": "https://localhost:8080/"
        },
        "outputId": "e7b9c47a-cd1a-4c8c-bef9-2c9b0a20e79d"
      },
      "outputs": [
        {
          "output_type": "stream",
          "name": "stdout",
          "text": [
            "Random Forest Classification Report (Test Set):\n",
            "              precision    recall  f1-score   support\n",
            "\n",
            "           0       0.98      0.99      0.98       532\n",
            "           1       0.96      0.93      0.95       168\n",
            "\n",
            "    accuracy                           0.97       700\n",
            "   macro avg       0.97      0.96      0.96       700\n",
            "weighted avg       0.97      0.97      0.97       700\n",
            "\n",
            "Random Forest Accuracy (Test Set): 0.97\n"
          ]
        }
      ],
      "source": [
        "# Import necessary libraries\n",
        "from sklearn.ensemble import RandomForestClassifier\n",
        "from sklearn.metrics import classification_report, accuracy_score\n",
        "\n",
        "# Step 1: Train the Random Forest model on the training set\n",
        "rf_model = RandomForestClassifier(\n",
        "    n_estimators=100,       # Number of trees in the forest\n",
        "    random_state=420         # Ensures reproducibility\n",
        ")\n",
        "rf_model.fit(X_train_features, y_train)\n",
        "\n",
        "# Step 2: Make predictions on the test set\n",
        "y_pred_rf = rf_model.predict(X_test_features)\n",
        "\n",
        "# Step 3: Evaluate the model\n",
        "print(\"Random Forest Classification Report (Test Set):\")\n",
        "print(classification_report(y_test, y_pred_rf))\n",
        "print(f\"Random Forest Accuracy (Test Set): {accuracy_score(y_test, y_pred_rf):.2f}\")\n"
      ]
    },
    {
      "cell_type": "code",
      "source": [
        "# Import necessary libraries\n",
        "from xgboost import XGBClassifier\n",
        "from sklearn.metrics import classification_report, accuracy_score\n",
        "\n",
        "# Step 1: Train the XGBoost model on the training set\n",
        "xgb_model = XGBClassifier(\n",
        "    use_label_encoder=False,  # Avoid deprecated warnings\n",
        "    eval_metric='logloss',   # Evaluation metric\n",
        "    random_state=420          # Ensures reproducibility\n",
        ")\n",
        "xgb_model.fit(X_train_features, y_train)\n",
        "\n",
        "# Step 2: Make predictions on the test set\n",
        "y_pred_xgb = xgb_model.predict(X_test_features)\n",
        "\n",
        "# Step 3: Evaluate the model\n",
        "print(\"XGBoost Classification Report (Test Set):\")\n",
        "print(classification_report(y_test, y_pred_xgb))\n",
        "print(f\"XGBoost Accuracy (Test Set): {accuracy_score(y_test, y_pred_xgb):.2f}\")\n"
      ],
      "metadata": {
        "colab": {
          "base_uri": "https://localhost:8080/"
        },
        "id": "xTq5sVtXB8M-",
        "outputId": "e9fc21a6-8747-4bca-c590-2e0a9f69ace5"
      },
      "execution_count": 14,
      "outputs": [
        {
          "output_type": "stream",
          "name": "stderr",
          "text": [
            "/usr/local/lib/python3.10/dist-packages/xgboost/core.py:158: UserWarning: [22:08:54] WARNING: /workspace/src/learner.cc:740: \n",
            "Parameters: { \"use_label_encoder\" } are not used.\n",
            "\n",
            "  warnings.warn(smsg, UserWarning)\n"
          ]
        },
        {
          "output_type": "stream",
          "name": "stdout",
          "text": [
            "XGBoost Classification Report (Test Set):\n",
            "              precision    recall  f1-score   support\n",
            "\n",
            "           0       0.99      0.98      0.99       532\n",
            "           1       0.94      0.98      0.96       168\n",
            "\n",
            "    accuracy                           0.98       700\n",
            "   macro avg       0.97      0.98      0.97       700\n",
            "weighted avg       0.98      0.98      0.98       700\n",
            "\n",
            "XGBoost Accuracy (Test Set): 0.98\n"
          ]
        }
      ]
    },
    {
      "cell_type": "markdown",
      "source": [
        "# **Section 4:**"
      ],
      "metadata": {
        "id": "1tqk6exr6xvY"
      }
    },
    {
      "cell_type": "markdown",
      "metadata": {
        "id": "LHMHhFuJeI8Z"
      },
      "source": [
        "text 4"
      ]
    },
    {
      "cell_type": "code",
      "execution_count": 15,
      "metadata": {
        "id": "tDKYi_-Ny_3o",
        "colab": {
          "base_uri": "https://localhost:8080/",
          "height": 643
        },
        "outputId": "335765f9-2925-48f5-8a48-9023571a7dda"
      },
      "outputs": [
        {
          "output_type": "stream",
          "name": "stdout",
          "text": [
            "Performance Metrics (Test Set):\n",
            "                Metric  Random Forest   XGBoost\n",
            "0             Accuracy       0.974286  0.980000\n",
            "1  Precision (Class 0)       0.979478  0.992395\n",
            "2  Precision (Class 1)       0.957317  0.942529\n",
            "3     Recall (Class 0)       0.986842  0.981203\n",
            "4     Recall (Class 1)       0.934524  0.976190\n",
            "5   F1-Score (Class 0)       0.983146  0.986767\n",
            "6   F1-Score (Class 1)       0.945783  0.959064\n"
          ]
        },
        {
          "output_type": "display_data",
          "data": {
            "text/plain": [
              "<Figure size 640x480 with 1 Axes>"
            ],
            "image/png": "[encoded data removed]"
          },
          "metadata": {}
        }
      ],
      "source": [
        "# Import necessary libraries\n",
        "import pandas as pd\n",
        "import matplotlib.pyplot as plt\n",
        "\n",
        "# Step 1: Collect performance metrics for both models\n",
        "metrics = {\n",
        "    \"Metric\": [\"Accuracy\", \"Precision (Class 0)\", \"Precision (Class 1)\",\n",
        "               \"Recall (Class 0)\", \"Recall (Class 1)\", \"F1-Score (Class 0)\", \"F1-Score (Class 1)\"],\n",
        "    \"Random Forest\": [\n",
        "        accuracy_score(y_test, y_pred_rf),  # Accuracy\n",
        "        classification_report(y_test, y_pred_rf, output_dict=True)['0']['precision'],  # Precision (Class 0)\n",
        "        classification_report(y_test, y_pred_rf, output_dict=True)['1']['precision'],  # Precision (Class 1)\n",
        "        classification_report(y_test, y_pred_rf, output_dict=True)['0']['recall'],     # Recall (Class 0)\n",
        "        classification_report(y_test, y_pred_rf, output_dict=True)['1']['recall'],     # Recall (Class 1)\n",
        "        classification_report(y_test, y_pred_rf, output_dict=True)['0']['f1-score'],   # F1-Score (Class 0)\n",
        "        classification_report(y_test, y_pred_rf, output_dict=True)['1']['f1-score']    # F1-Score (Class 1)\n",
        "    ],\n",
        "    \"XGBoost\": [\n",
        "        accuracy_score(y_test, y_pred_xgb),  # Accuracy\n",
        "        classification_report(y_test, y_pred_xgb, output_dict=True)['0']['precision'],  # Precision (Class 0)\n",
        "        classification_report(y_test, y_pred_xgb, output_dict=True)['1']['precision'],  # Precision (Class 1)\n",
        "        classification_report(y_test, y_pred_xgb, output_dict=True)['0']['recall'],     # Recall (Class 0)\n",
        "        classification_report(y_test, y_pred_xgb, output_dict=True)['1']['recall'],     # Recall (Class 1)\n",
        "        classification_report(y_test, y_pred_xgb, output_dict=True)['0']['f1-score'],   # F1-Score (Class 0)\n",
        "        classification_report(y_test, y_pred_xgb, output_dict=True)['1']['f1-score']    # F1-Score (Class 1)\n",
        "    ]\n",
        "}\n",
        "\n",
        "# Step 2: Create a DataFrame for performance metrics\n",
        "metrics_df = pd.DataFrame(metrics)\n",
        "print(\"Performance Metrics (Test Set):\")\n",
        "print(metrics_df)\n",
        "\n",
        "# Step 3: Visualize the comparison between Random Forest and XGBoost\n",
        "categories = metrics[\"Metric\"]  # Extract metric categories\n",
        "rf_scores = metrics_df[\"Random Forest\"]  # Random Forest scores\n",
        "xgb_scores = metrics_df[\"XGBoost\"]       # XGBoost scores\n",
        "\n",
        "x = range(len(categories))  # X-axis positions\n",
        "plt.bar(x, rf_scores, width=0.4, label=\"Random Forest\", align='center')  # Random Forest bar\n",
        "plt.bar([p + 0.4 for p in x], xgb_scores, width=0.4, label=\"XGBoost\", align='center')  # XGBoost bar\n",
        "\n",
        "# Add chart labels, title, and legend\n",
        "plt.xlabel(\"Metrics\")\n",
        "plt.ylabel(\"Score\")\n",
        "plt.title(\"Performance Comparison on Test Set\")\n",
        "plt.xticks([p + 0.2 for p in x], categories, rotation=45, ha='right')  # Rotate category labels\n",
        "plt.ylim(0, 1.1)  # Set y-axis limits\n",
        "plt.legend()\n",
        "plt.tight_layout()\n",
        "plt.show()\n"
      ]
    }
  ],
  "metadata": {
    "colab": {
      "provenance": []
    },
    "kernelspec": {
      "display_name": "Python 3",
      "name": "python3"
    },
    "language_info": {
      "name": "python"
    }
  },
  "nbformat": 4,
  "nbformat_minor": 0
}